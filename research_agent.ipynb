{
 "cells": [
  {
   "cell_type": "code",
   "execution_count": 1,
   "id": "1e5947d3",
   "metadata": {},
   "outputs": [
    {
     "data": {
      "text/plain": [
       "True"
      ]
     },
     "execution_count": 1,
     "metadata": {},
     "output_type": "execute_result"
    }
   ],
   "source": [
    "import os\n",
    "import streamlit as st\n",
    "from typing import TypedDict, List\n",
    "from langchain_groq import ChatGroq\n",
    "from langchain_community.tools import TavilySearchResults\n",
    "from langgraph.graph import StateGraph, START, END\n",
    "from newspaper import Article\n",
    "from dotenv import load_dotenv\n",
    "\n",
    "load_dotenv()"
   ]
  },
  {
   "cell_type": "code",
   "execution_count": 2,
   "id": "488a4f19",
   "metadata": {},
   "outputs": [
    {
     "name": "stderr",
     "output_type": "stream",
     "text": [
      "C:\\Users\\Soham\\AppData\\Local\\Temp\\ipykernel_8632\\1230000310.py:17: LangChainDeprecationWarning: The class `TavilySearchResults` was deprecated in LangChain 0.3.25 and will be removed in 1.0. An updated version of the class exists in the :class:`~langchain-tavily package and should be used instead. To use it run `pip install -U :class:`~langchain-tavily` and import as `from :class:`~langchain_tavily import TavilySearch``.\n",
      "  search_tool = TavilySearchResults(max_results=4)\n"
     ]
    }
   ],
   "source": [
    "class ResearchState(TypedDict):\n",
    "    \"\"\"\n",
    "    Represents the state of our research agent.\n",
    "\n",
    "    Attributes:\n",
    "        topic (str): The research topic provided by the user.\n",
    "        urls (List[str]): A list of URLs found for the topic.\n",
    "        articles (List[dict]): A list of dictionaries, each containing a URL and its scraped content.\n",
    "        summary (str): The final, summarized report in bullet points.\n",
    "    \"\"\"\n",
    "    topic: str\n",
    "    urls: List[str]\n",
    "    articles: List[dict]\n",
    "    summary: str\n",
    "\n",
    "try:\n",
    "    search_tool = TavilySearchResults(max_results=4)\n",
    "    llm = ChatGroq(model=\"llama3-8b-8192\", temperature=0)\n",
    "except Exception as e:\n",
    "    st.error(f\"Failed to initialize tools. Please check your API keys. Error: {e}\")\n",
    "    st.stop()"
   ]
  },
  {
   "cell_type": "code",
   "execution_count": 3,
   "id": "f18236c3",
   "metadata": {},
   "outputs": [],
   "source": [
    "def search_node(state: ResearchState):\n",
    "    \"\"\"\n",
    "    Searches for relevant articles for the given topic.\n",
    "\n",
    "    Args:\n",
    "        state (ResearchState): The current state of the research agent.\n",
    "\n",
    "    Returns:\n",
    "        dict: A dictionary containing the list of found URLs.\n",
    "    \"\"\"\n",
    "    print(\"🔍 Searching for relevant articles...\")\n",
    "    results = search_tool.invoke(state['topic'])\n",
    "    urls = [res['url'] for res in results]\n",
    "    return {\"urls\": urls}"
   ]
  },
  {
   "cell_type": "code",
   "execution_count": 4,
   "id": "4934e3a0",
   "metadata": {},
   "outputs": [],
   "source": [
    "def scrape_node(state: ResearchState):\n",
    "    \"\"\"\n",
    "    Scrapes the content from the found URLs.\n",
    "\n",
    "    Args:\n",
    "        state (ResearchState): The current state of the research agent.\n",
    "\n",
    "    Returns:\n",
    "        dict: A dictionary containing the list of scraped articles.\n",
    "    \"\"\"\n",
    "    print(\"📰 Scraping article content...\")\n",
    "    scraped_articles = []\n",
    "    for i, url in enumerate(state['urls']):\n",
    "        try:\n",
    "            article = Article(url)\n",
    "            article.download()\n",
    "            article.parse()\n",
    "            scraped_articles.append({\"url\": url, \"content\": article.text[:4000]}) # Truncate for context window\n",
    "        except Exception as e:\n",
    "            print(f\"⚠️ Could not scrape {url}: {e}\")\n",
    "    return {\"articles\": scraped_articles}"
   ]
  },
  {
   "cell_type": "code",
   "execution_count": 5,
   "id": "220ed1bc",
   "metadata": {},
   "outputs": [],
   "source": [
    "def summarize_node(state: ResearchState):\n",
    "    \"\"\"\n",
    "    Generates a combined summary from all scraped articles.\n",
    "\n",
    "    Args:\n",
    "        state (ResearchState): The current state of the research agent.\n",
    "\n",
    "    Returns:\n",
    "        dict: A dictionary containing the final bullet-point summary.\n",
    "    \"\"\"\n",
    "    print(\"✍️ Generating summary...\")\n",
    "    \n",
    "    # Create a unified text from all articles for the LLM\n",
    "    text_content = \"\"\n",
    "    for article in state['articles']:\n",
    "        text_content += f\"--- Article from {article['url']} ---\\n\\n{article['content']}\\n\\n\"\n",
    "\n",
    "    # Define the prompt for the LLM\n",
    "    prompt = f\"\"\"\n",
    "    You are an expert research assistant.\n",
    "    Your task is to create a concise, easy-to-read summary in bullet points based on the provided articles for the topic: \"{state['topic']}\".\n",
    "\n",
    "    Instructions:\n",
    "    1.  Synthesize information from all the articles into a single, cohesive summary.\n",
    "    2.  Do NOT list summaries for each article separately.\n",
    "    3.  The summary must be in bullet points.\n",
    "    4.  The tone should be informative and objective.\n",
    "\n",
    "    Here is the content from the articles:\n",
    "    {text_content}\n",
    "    \"\"\"\n",
    "    \n",
    "    # Invoke the LLM to get the summary\n",
    "    summary_result = llm.invoke(prompt)\n",
    "    return {\"summary\": summary_result.content}"
   ]
  },
  {
   "cell_type": "code",
   "execution_count": 6,
   "id": "d536eb07",
   "metadata": {},
   "outputs": [],
   "source": [
    "builder = StateGraph(ResearchState)\n",
    "\n",
    "# Add the nodes to the graph\n",
    "builder.add_node(\"search\", search_node)\n",
    "builder.add_node(\"scrape\", scrape_node)\n",
    "builder.add_node(\"summarize\", summarize_node)\n",
    "\n",
    "# Define the edges that connect the nodes\n",
    "builder.add_edge(START, \"search\")\n",
    "builder.add_edge(\"search\", \"scrape\")\n",
    "builder.add_edge(\"scrape\", \"summarize\")\n",
    "builder.add_edge(\"summarize\", END)\n",
    "\n",
    "# Compile the graph into a runnable object\n",
    "graph = builder.compile()"
   ]
  },
  {
   "cell_type": "code",
   "execution_count": 7,
   "id": "c7c7c369",
   "metadata": {},
   "outputs": [
    {
     "data": {
      "image/png": "[encoded data removed]",
      "text/plain": [
       "<IPython.core.display.Image object>"
      ]
     },
     "metadata": {},
     "output_type": "display_data"
    }
   ],
   "source": [
    "from IPython.display import Image, display\n",
    "\n",
    "display(Image(graph.get_graph().draw_mermaid_png()))"
   ]
  },
  {
   "cell_type": "code",
   "execution_count": null,
   "id": "3a38f6c8",
   "metadata": {},
   "outputs": [],
   "source": []
  }
 ],
 "metadata": {
  "kernelspec": {
   "display_name": "Python 3",
   "language": "python",
   "name": "python3"
  },
  "language_info": {
   "codemirror_mode": {
    "name": "ipython",
    "version": 3
   },
   "file_extension": ".py",
   "mimetype": "text/x-python",
   "name": "python",
   "nbconvert_exporter": "python",
   "pygments_lexer": "ipython3",
   "version": "3.12.0"
  }
 },
 "nbformat": 4,
 "nbformat_minor": 5
}
